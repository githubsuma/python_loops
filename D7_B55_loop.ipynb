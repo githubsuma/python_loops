{
 "cells": [
  {
   "cell_type": "code",
   "execution_count": null,
   "id": "2935f926",
   "metadata": {},
   "outputs": [],
   "source": [
    "#looping statements"
   ]
  },
  {
   "cell_type": "code",
   "execution_count": 1,
   "id": "cca9e093",
   "metadata": {},
   "outputs": [
    {
     "name": "stdout",
     "output_type": "stream",
     "text": [
      "['suma', 'sanjay', 'sowmi']\n"
     ]
    }
   ],
   "source": [
    "students = ['suma','sanjay','sowmi']\n",
    "print(students)"
   ]
  },
  {
   "cell_type": "code",
   "execution_count": 3,
   "id": "bee68812",
   "metadata": {},
   "outputs": [
    {
     "name": "stdout",
     "output_type": "stream",
     "text": [
      "keep up the good work,Suma\n"
     ]
    }
   ],
   "source": [
    "print(f\"keep up the good work,{students[0].title()}\")  #appreciate"
   ]
  },
  {
   "cell_type": "code",
   "execution_count": null,
   "id": "aeec75ec",
   "metadata": {},
   "outputs": [],
   "source": [
    "#for loop"
   ]
  },
  {
   "cell_type": "code",
   "execution_count": null,
   "id": "0aa24f30",
   "metadata": {},
   "outputs": [],
   "source": [
    "for tempvar in mainvar:              #general syntax\n",
    "    print(tempvar)"
   ]
  },
  {
   "cell_type": "code",
   "execution_count": 4,
   "id": "f2653090",
   "metadata": {},
   "outputs": [
    {
     "name": "stdout",
     "output_type": "stream",
     "text": [
      "keep up the good work,Suma\n",
      "keep up the good work,Sanjay\n",
      "keep up the good work,Sowmi\n"
     ]
    }
   ],
   "source": [
    "for x in students:\n",
    "    print(f\"keep up the good work,{x.title()}\")"
   ]
  },
  {
   "cell_type": "code",
   "execution_count": 5,
   "id": "0daf15f2",
   "metadata": {},
   "outputs": [
    {
     "name": "stdout",
     "output_type": "stream",
     "text": [
      "suma\n",
      "sanjay\n",
      "sowmi\n"
     ]
    }
   ],
   "source": [
    "for a in students:\n",
    "    print(a)"
   ]
  },
  {
   "cell_type": "code",
   "execution_count": 6,
   "id": "542c2161",
   "metadata": {},
   "outputs": [
    {
     "name": "stdout",
     "output_type": "stream",
     "text": [
      "keep up the good work,Suma\n",
      "I will be looking forward to receive your github urls to my inbox,Suma\n",
      "keep up the good work,Sanjay\n",
      "I will be looking forward to receive your github urls to my inbox,Sanjay\n",
      "keep up the good work,Sowmi\n",
      "I will be looking forward to receive your github urls to my inbox,Sowmi\n"
     ]
    }
   ],
   "source": [
    "for x in students:\n",
    "    print(f\"keep up the good work,{x.title()}\")\n",
    "    print(f\"I will be looking forward to receive your github urls to my inbox,{x.title()}\")"
   ]
  },
  {
   "cell_type": "code",
   "execution_count": 7,
   "id": "1d4de8ab",
   "metadata": {},
   "outputs": [
    {
     "name": "stdout",
     "output_type": "stream",
     "text": [
      "keep up the good work,Suma\n",
      "I will be looking forward to receive your github urls to my inbox,Suma\n",
      "\n",
      "keep up the good work,Sanjay\n",
      "I will be looking forward to receive your github urls to my inbox,Sanjay\n",
      "\n",
      "keep up the good work,Sowmi\n",
      "I will be looking forward to receive your github urls to my inbox,Sowmi\n",
      "\n"
     ]
    }
   ],
   "source": [
    "for x in students:\n",
    "    print(f\"keep up the good work,{x.title()}\")\n",
    "    print(f\"I will be looking forward to receive your github urls to my inbox,{x.title()}\\n\")"
   ]
  },
  {
   "cell_type": "code",
   "execution_count": 8,
   "id": "665f9328",
   "metadata": {},
   "outputs": [
    {
     "name": "stdout",
     "output_type": "stream",
     "text": [
      "keep up the good work,Suma\n",
      "I will be looking forward to receive your github urls to my inbox,Suma\n",
      "\t\n",
      "keep up the good work,Sanjay\n",
      "I will be looking forward to receive your github urls to my inbox,Sanjay\n",
      "\t\n",
      "keep up the good work,Sowmi\n",
      "I will be looking forward to receive your github urls to my inbox,Sowmi\n",
      "\t\n"
     ]
    }
   ],
   "source": [
    "for x in students:\n",
    "    print(f\"keep up the good work,{x.title()}\")\n",
    "    print(f\"I will be looking forward to receive your github urls to my inbox,{x.title()}\\n\\t\")"
   ]
  },
  {
   "cell_type": "code",
   "execution_count": 9,
   "id": "37f7c6e6",
   "metadata": {},
   "outputs": [
    {
     "name": "stdout",
     "output_type": "stream",
     "text": [
      "keep up the good work,Suma\n",
      "I will be looking forward to receive your github urls to my inbox,Suma\n",
      "keep up the good work,Sanjay\n",
      "I will be looking forward to receive your github urls to my inbox,Sanjay\n",
      "keep up the good work,Sowmi\n",
      "I will be looking forward to receive your github urls to my inbox,Sowmi\n",
      "thank u all for joining in the sessions\n"
     ]
    }
   ],
   "source": [
    "for x in students:\n",
    "    print(f\"keep up the good work,{x.title()}\")\n",
    "    print(f\"I will be looking forward to receive your github urls to my inbox,{x.title()}\")\n",
    "print(\"thank u all for joining in the sessions\")"
   ]
  },
  {
   "cell_type": "code",
   "execution_count": 10,
   "id": "856ad5f5",
   "metadata": {},
   "outputs": [
    {
     "name": "stdout",
     "output_type": "stream",
     "text": [
      "keep up the good work,Suma\n",
      "I will be looking forward to receive your github urls to my inbox,Suma\n",
      "\n",
      "keep up the good work,Sanjay\n",
      "I will be looking forward to receive your github urls to my inbox,Sanjay\n",
      "\n",
      "keep up the good work,Sowmi\n",
      "I will be looking forward to receive your github urls to my inbox,Sowmi\n",
      "\n",
      "thank u all for joining in the sessions\n"
     ]
    }
   ],
   "source": [
    "for x in students:\n",
    "    print(f\"keep up the good work,{x.title()}\")\n",
    "    print(f\"I will be looking forward to receive your github urls to my inbox,{x.title()}\\n\")\n",
    "print(\"thank u all for joining in the sessions\")"
   ]
  },
  {
   "cell_type": "code",
   "execution_count": null,
   "id": "b3de3314",
   "metadata": {},
   "outputs": [],
   "source": []
  },
  {
   "cell_type": "code",
   "execution_count": null,
   "id": "b1a27c6c",
   "metadata": {},
   "outputs": [],
   "source": []
  }
 ],
 "metadata": {
  "kernelspec": {
   "display_name": "Python 3 (ipykernel)",
   "language": "python",
   "name": "python3"
  },
  "language_info": {
   "codemirror_mode": {
    "name": "ipython",
    "version": 3
   },
   "file_extension": ".py",
   "mimetype": "text/x-python",
   "name": "python",
   "nbconvert_exporter": "python",
   "pygments_lexer": "ipython3",
   "version": "3.9.7"
  }
 },
 "nbformat": 4,
 "nbformat_minor": 5
}
